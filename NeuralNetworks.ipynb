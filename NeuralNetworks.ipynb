{
 "cells": [
  {
   "cell_type": "code",
   "execution_count": 1,
   "metadata": {},
   "outputs": [
    {
     "name": "stderr",
     "output_type": "stream",
     "text": [
      "Using TensorFlow backend.\n"
     ]
    }
   ],
   "source": [
    "import pandas as pd\n",
    "import numpy as np\n",
    "import random as rd\n",
    "import matplotlib.pyplot as plt\n",
    "%matplotlib inline\n",
    "from matplotlib import pyplot\n",
    "from numpy import where\n",
    "import seaborn as sns\n",
    "from sklearn.preprocessing import LabelEncoder,MinMaxScaler\n",
    "from sklearn.model_selection import train_test_split\n",
    "from sklearn.neural_network import MLPClassifier\n",
    "from sklearn.metrics import confusion_matrix,mean_squared_error,mean_absolute_error,r2_score\n",
    "from sklearn.metrics import accuracy_score\n",
    "from sklearn.model_selection import GridSearchCV\n",
    "import snips as snp\n",
    "from mlxtend.plotting import plot_learning_curves\n",
    "from math import sqrt\n",
    "from keras.models import Sequential\n",
    "from keras.layers import Dense\n",
    "from keras.callbacks import EarlyStopping\n",
    "from keras.optimizers import Adam\n",
    "from keras.optimizers import SGD\n",
    "from sklearn.model_selection import KFold"
   ]
  },
  {
   "cell_type": "code",
   "execution_count": 3,
   "metadata": {},
   "outputs": [
    {
     "name": "stdout",
     "output_type": "stream",
     "text": [
      "(19988, 29)\n"
     ]
    }
   ],
   "source": [
    "df = pd.read_csv(\"C:/Users/Chandu/Downloads/Full_Data_Mean_Result.csv\",index_col=None)\n",
    "print(df.shape)"
   ]
  },
  {
   "cell_type": "markdown",
   "metadata": {},
   "source": [
    "# Data Exploration"
   ]
  },
  {
   "cell_type": "code",
   "execution_count": 6,
   "metadata": {},
   "outputs": [
    {
     "name": "stdout",
     "output_type": "stream",
     "text": [
      "Index(['Date', 'pH', 'Temp', 'DO', 'Salinity', 'Conductivity', 'Ammonia',\n",
      "       'Q pH', 'Q Temp', 'Q DO', 'Q Salinity', 'Q Conductivity', 'Q Ammonia',\n",
      "       'W pH', 'W Temp', 'W DO', 'W Salinity', 'W Conductivity', 'W Ammonia',\n",
      "       'Q pH * W pH', 'Q Temp * W Temp', 'Q DO * W DO',\n",
      "       'Q Salinity * W Salinity', 'Q Conductivity * W Conductivity',\n",
      "       'Q Ammonia * W Ammonia', 'Wn', 'Q * W', 'WQI', 'Result'],\n",
      "      dtype='object')\n"
     ]
    }
   ],
   "source": [
    "print(df.columns)"
   ]
  },
  {
   "cell_type": "code",
   "execution_count": 7,
   "metadata": {},
   "outputs": [
    {
     "data": {
      "text/html": [
       "<div>\n",
       "<style scoped>\n",
       "    .dataframe tbody tr th:only-of-type {\n",
       "        vertical-align: middle;\n",
       "    }\n",
       "\n",
       "    .dataframe tbody tr th {\n",
       "        vertical-align: top;\n",
       "    }\n",
       "\n",
       "    .dataframe thead th {\n",
       "        text-align: right;\n",
       "    }\n",
       "</style>\n",
       "<table border=\"1\" class=\"dataframe\">\n",
       "  <thead>\n",
       "    <tr style=\"text-align: right;\">\n",
       "      <th></th>\n",
       "      <th>Date</th>\n",
       "      <th>pH</th>\n",
       "      <th>Temp</th>\n",
       "      <th>DO</th>\n",
       "      <th>Salinity</th>\n",
       "      <th>Conductivity</th>\n",
       "      <th>Ammonia</th>\n",
       "      <th>Q pH</th>\n",
       "      <th>Q Temp</th>\n",
       "      <th>Q DO</th>\n",
       "      <th>...</th>\n",
       "      <th>Q pH * W pH</th>\n",
       "      <th>Q Temp * W Temp</th>\n",
       "      <th>Q DO * W DO</th>\n",
       "      <th>Q Salinity * W Salinity</th>\n",
       "      <th>Q Conductivity * W Conductivity</th>\n",
       "      <th>Q Ammonia * W Ammonia</th>\n",
       "      <th>Wn</th>\n",
       "      <th>Q * W</th>\n",
       "      <th>WQI</th>\n",
       "      <th>Result</th>\n",
       "    </tr>\n",
       "  </thead>\n",
       "  <tbody>\n",
       "    <tr>\n",
       "      <th>0</th>\n",
       "      <td>10/17/1974</td>\n",
       "      <td>7.900000</td>\n",
       "      <td>22.857426</td>\n",
       "      <td>15.832946</td>\n",
       "      <td>14.863006</td>\n",
       "      <td>2129.12337</td>\n",
       "      <td>0.663618</td>\n",
       "      <td>180.000000</td>\n",
       "      <td>114.287132</td>\n",
       "      <td>-14.336577</td>\n",
       "      <td>...</td>\n",
       "      <td>1.407915</td>\n",
       "      <td>0.335222</td>\n",
       "      <td>-0.140171</td>\n",
       "      <td>0.071176</td>\n",
       "      <td>0.019516</td>\n",
       "      <td>1081.385888</td>\n",
       "      <td>1</td>\n",
       "      <td>1083.079546</td>\n",
       "      <td>1083.079546</td>\n",
       "      <td>5</td>\n",
       "    </tr>\n",
       "    <tr>\n",
       "      <th>1</th>\n",
       "      <td>10/17/1974</td>\n",
       "      <td>8.081018</td>\n",
       "      <td>16.000000</td>\n",
       "      <td>15.832946</td>\n",
       "      <td>14.863006</td>\n",
       "      <td>2129.12337</td>\n",
       "      <td>0.663618</td>\n",
       "      <td>216.203608</td>\n",
       "      <td>80.000000</td>\n",
       "      <td>-14.336577</td>\n",
       "      <td>...</td>\n",
       "      <td>1.691090</td>\n",
       "      <td>0.234652</td>\n",
       "      <td>-0.140171</td>\n",
       "      <td>0.071176</td>\n",
       "      <td>0.019516</td>\n",
       "      <td>1081.385888</td>\n",
       "      <td>1</td>\n",
       "      <td>1083.262152</td>\n",
       "      <td>1083.262152</td>\n",
       "      <td>5</td>\n",
       "    </tr>\n",
       "    <tr>\n",
       "      <th>2</th>\n",
       "      <td>10/18/1974</td>\n",
       "      <td>8.081018</td>\n",
       "      <td>22.857426</td>\n",
       "      <td>15.832946</td>\n",
       "      <td>14.863006</td>\n",
       "      <td>2129.12337</td>\n",
       "      <td>0.663618</td>\n",
       "      <td>216.203608</td>\n",
       "      <td>114.287132</td>\n",
       "      <td>-14.336577</td>\n",
       "      <td>...</td>\n",
       "      <td>1.691090</td>\n",
       "      <td>0.335222</td>\n",
       "      <td>-0.140171</td>\n",
       "      <td>0.071176</td>\n",
       "      <td>0.019516</td>\n",
       "      <td>1081.385888</td>\n",
       "      <td>1</td>\n",
       "      <td>1083.362721</td>\n",
       "      <td>1083.362721</td>\n",
       "      <td>5</td>\n",
       "    </tr>\n",
       "    <tr>\n",
       "      <th>3</th>\n",
       "      <td>10/19/1974</td>\n",
       "      <td>8.081018</td>\n",
       "      <td>22.857426</td>\n",
       "      <td>15.832946</td>\n",
       "      <td>14.863006</td>\n",
       "      <td>2129.12337</td>\n",
       "      <td>0.663618</td>\n",
       "      <td>216.203608</td>\n",
       "      <td>114.287132</td>\n",
       "      <td>-14.336577</td>\n",
       "      <td>...</td>\n",
       "      <td>1.691090</td>\n",
       "      <td>0.335222</td>\n",
       "      <td>-0.140171</td>\n",
       "      <td>0.071176</td>\n",
       "      <td>0.019516</td>\n",
       "      <td>1081.385888</td>\n",
       "      <td>1</td>\n",
       "      <td>1083.362721</td>\n",
       "      <td>1083.362721</td>\n",
       "      <td>5</td>\n",
       "    </tr>\n",
       "    <tr>\n",
       "      <th>4</th>\n",
       "      <td>10/20/1974</td>\n",
       "      <td>8.081018</td>\n",
       "      <td>22.857426</td>\n",
       "      <td>15.832946</td>\n",
       "      <td>14.863006</td>\n",
       "      <td>2129.12337</td>\n",
       "      <td>0.663618</td>\n",
       "      <td>216.203608</td>\n",
       "      <td>114.287132</td>\n",
       "      <td>-14.336577</td>\n",
       "      <td>...</td>\n",
       "      <td>1.691090</td>\n",
       "      <td>0.335222</td>\n",
       "      <td>-0.140171</td>\n",
       "      <td>0.071176</td>\n",
       "      <td>0.019516</td>\n",
       "      <td>1081.385888</td>\n",
       "      <td>1</td>\n",
       "      <td>1083.362721</td>\n",
       "      <td>1083.362721</td>\n",
       "      <td>5</td>\n",
       "    </tr>\n",
       "  </tbody>\n",
       "</table>\n",
       "<p>5 rows × 29 columns</p>\n",
       "</div>"
      ],
      "text/plain": [
       "         Date        pH       Temp         DO   Salinity  Conductivity  \\\n",
       "0  10/17/1974  7.900000  22.857426  15.832946  14.863006    2129.12337   \n",
       "1  10/17/1974  8.081018  16.000000  15.832946  14.863006    2129.12337   \n",
       "2  10/18/1974  8.081018  22.857426  15.832946  14.863006    2129.12337   \n",
       "3  10/19/1974  8.081018  22.857426  15.832946  14.863006    2129.12337   \n",
       "4  10/20/1974  8.081018  22.857426  15.832946  14.863006    2129.12337   \n",
       "\n",
       "    Ammonia        Q pH      Q Temp       Q DO  ...  Q pH * W pH  \\\n",
       "0  0.663618  180.000000  114.287132 -14.336577  ...     1.407915   \n",
       "1  0.663618  216.203608   80.000000 -14.336577  ...     1.691090   \n",
       "2  0.663618  216.203608  114.287132 -14.336577  ...     1.691090   \n",
       "3  0.663618  216.203608  114.287132 -14.336577  ...     1.691090   \n",
       "4  0.663618  216.203608  114.287132 -14.336577  ...     1.691090   \n",
       "\n",
       "   Q Temp * W Temp  Q DO * W DO  Q Salinity * W Salinity  \\\n",
       "0         0.335222    -0.140171                 0.071176   \n",
       "1         0.234652    -0.140171                 0.071176   \n",
       "2         0.335222    -0.140171                 0.071176   \n",
       "3         0.335222    -0.140171                 0.071176   \n",
       "4         0.335222    -0.140171                 0.071176   \n",
       "\n",
       "   Q Conductivity * W Conductivity  Q Ammonia * W Ammonia  Wn        Q * W  \\\n",
       "0                         0.019516            1081.385888   1  1083.079546   \n",
       "1                         0.019516            1081.385888   1  1083.262152   \n",
       "2                         0.019516            1081.385888   1  1083.362721   \n",
       "3                         0.019516            1081.385888   1  1083.362721   \n",
       "4                         0.019516            1081.385888   1  1083.362721   \n",
       "\n",
       "           WQI  Result  \n",
       "0  1083.079546       5  \n",
       "1  1083.262152       5  \n",
       "2  1083.362721       5  \n",
       "3  1083.362721       5  \n",
       "4  1083.362721       5  \n",
       "\n",
       "[5 rows x 29 columns]"
      ]
     },
     "execution_count": 7,
     "metadata": {},
     "output_type": "execute_result"
    }
   ],
   "source": [
    "df.head()"
   ]
  },
  {
   "cell_type": "code",
   "execution_count": 4,
   "metadata": {},
   "outputs": [],
   "source": [
    "#Converting the \"Date\" field to datetime format\n",
    "df['Date'] = pd.to_datetime(df.Date)"
   ]
  },
  {
   "cell_type": "markdown",
   "metadata": {},
   "source": [
    "# Neural Networks"
   ]
  },
  {
   "cell_type": "code",
   "execution_count": 5,
   "metadata": {},
   "outputs": [],
   "source": [
    "wf = df[['pH','Temp','DO','Salinity','Conductivity', 'Ammonia', 'Result']]"
   ]
  },
  {
   "cell_type": "code",
   "execution_count": 6,
   "metadata": {},
   "outputs": [
    {
     "data": {
      "text/html": [
       "<div>\n",
       "<style scoped>\n",
       "    .dataframe tbody tr th:only-of-type {\n",
       "        vertical-align: middle;\n",
       "    }\n",
       "\n",
       "    .dataframe tbody tr th {\n",
       "        vertical-align: top;\n",
       "    }\n",
       "\n",
       "    .dataframe thead th {\n",
       "        text-align: right;\n",
       "    }\n",
       "</style>\n",
       "<table border=\"1\" class=\"dataframe\">\n",
       "  <thead>\n",
       "    <tr style=\"text-align: right;\">\n",
       "      <th></th>\n",
       "      <th>pH</th>\n",
       "      <th>Temp</th>\n",
       "      <th>DO</th>\n",
       "      <th>Salinity</th>\n",
       "      <th>Conductivity</th>\n",
       "      <th>Ammonia</th>\n",
       "      <th>Result</th>\n",
       "    </tr>\n",
       "  </thead>\n",
       "  <tbody>\n",
       "    <tr>\n",
       "      <th>0</th>\n",
       "      <td>7.900000</td>\n",
       "      <td>22.857426</td>\n",
       "      <td>15.832946</td>\n",
       "      <td>14.863006</td>\n",
       "      <td>2129.12337</td>\n",
       "      <td>0.663618</td>\n",
       "      <td>5</td>\n",
       "    </tr>\n",
       "    <tr>\n",
       "      <th>1</th>\n",
       "      <td>8.081018</td>\n",
       "      <td>16.000000</td>\n",
       "      <td>15.832946</td>\n",
       "      <td>14.863006</td>\n",
       "      <td>2129.12337</td>\n",
       "      <td>0.663618</td>\n",
       "      <td>5</td>\n",
       "    </tr>\n",
       "    <tr>\n",
       "      <th>2</th>\n",
       "      <td>8.081018</td>\n",
       "      <td>22.857426</td>\n",
       "      <td>15.832946</td>\n",
       "      <td>14.863006</td>\n",
       "      <td>2129.12337</td>\n",
       "      <td>0.663618</td>\n",
       "      <td>5</td>\n",
       "    </tr>\n",
       "    <tr>\n",
       "      <th>3</th>\n",
       "      <td>8.081018</td>\n",
       "      <td>22.857426</td>\n",
       "      <td>15.832946</td>\n",
       "      <td>14.863006</td>\n",
       "      <td>2129.12337</td>\n",
       "      <td>0.663618</td>\n",
       "      <td>5</td>\n",
       "    </tr>\n",
       "    <tr>\n",
       "      <th>4</th>\n",
       "      <td>8.081018</td>\n",
       "      <td>22.857426</td>\n",
       "      <td>15.832946</td>\n",
       "      <td>14.863006</td>\n",
       "      <td>2129.12337</td>\n",
       "      <td>0.663618</td>\n",
       "      <td>5</td>\n",
       "    </tr>\n",
       "  </tbody>\n",
       "</table>\n",
       "</div>"
      ],
      "text/plain": [
       "         pH       Temp         DO   Salinity  Conductivity   Ammonia  Result\n",
       "0  7.900000  22.857426  15.832946  14.863006    2129.12337  0.663618       5\n",
       "1  8.081018  16.000000  15.832946  14.863006    2129.12337  0.663618       5\n",
       "2  8.081018  22.857426  15.832946  14.863006    2129.12337  0.663618       5\n",
       "3  8.081018  22.857426  15.832946  14.863006    2129.12337  0.663618       5\n",
       "4  8.081018  22.857426  15.832946  14.863006    2129.12337  0.663618       5"
      ]
     },
     "execution_count": 6,
     "metadata": {},
     "output_type": "execute_result"
    }
   ],
   "source": [
    "wf.head()"
   ]
  },
  {
   "cell_type": "code",
   "execution_count": 7,
   "metadata": {},
   "outputs": [
    {
     "name": "stderr",
     "output_type": "stream",
     "text": [
      "C:\\Users\\Chandu\\Anaconda3\\lib\\site-packages\\pandas\\core\\frame.py:3940: SettingWithCopyWarning: \n",
      "A value is trying to be set on a copy of a slice from a DataFrame\n",
      "\n",
      "See the caveats in the documentation: http://pandas.pydata.org/pandas-docs/stable/indexing.html#indexing-view-versus-copy\n",
      "  errors=errors)\n"
     ]
    }
   ],
   "source": [
    "y = wf['Result']\n",
    "X = wf.drop(['Result'],axis=1, inplace=True)"
   ]
  },
  {
   "cell_type": "code",
   "execution_count": 8,
   "metadata": {},
   "outputs": [
    {
     "name": "stderr",
     "output_type": "stream",
     "text": [
      "C:\\Users\\Chandu\\Anaconda3\\lib\\site-packages\\ipykernel_launcher.py:5: FutureWarning: Method .as_matrix will be removed in a future version. Use .values instead.\n",
      "  \"\"\"\n",
      "C:\\Users\\Chandu\\Anaconda3\\lib\\site-packages\\ipykernel_launcher.py:6: FutureWarning: Method .as_matrix will be removed in a future version. Use .values instead.\n",
      "  \n",
      "C:\\Users\\Chandu\\Anaconda3\\lib\\site-packages\\ipykernel_launcher.py:8: FutureWarning: Method .as_matrix will be removed in a future version. Use .values instead.\n",
      "  \n",
      "C:\\Users\\Chandu\\Anaconda3\\lib\\site-packages\\ipykernel_launcher.py:9: FutureWarning: Method .as_matrix will be removed in a future version. Use .values instead.\n",
      "  if __name__ == '__main__':\n"
     ]
    }
   ],
   "source": [
    "#Splitting of data into test and train\n",
    "from sklearn.model_selection import train_test_split\n",
    "X_train, X_test, y_train, y_test = train_test_split(wf, y, test_size=0.33, random_state=45)\n",
    "\n",
    "X_train = X_train.as_matrix()\n",
    "X_test = X_test.as_matrix()\n",
    "\n",
    "y_train = y_train.as_matrix()\n",
    "y_test = y_test.as_matrix()"
   ]
  },
  {
   "cell_type": "code",
   "execution_count": 9,
   "metadata": {},
   "outputs": [],
   "source": [
    "model = Sequential()\n",
    "model.add(Dense(20, input_dim=6, activation='relu', kernel_initializer='he_uniform'))\n",
    "model.add(Dense(10, input_dim=6, activation='tanh'))\n",
    "model.add(Dense(1))\n",
    "opt = SGD(lr=0.01, momentum=0.9)"
   ]
  },
  {
   "cell_type": "code",
   "execution_count": 10,
   "metadata": {},
   "outputs": [],
   "source": [
    "model.compile(loss='mean_squared_error', optimizer=opt, metrics=['accuracy'])"
   ]
  },
  {
   "cell_type": "code",
   "execution_count": 11,
   "metadata": {
    "scrolled": true
   },
   "outputs": [
    {
     "name": "stdout",
     "output_type": "stream",
     "text": [
      "WARNING:tensorflow:From C:\\Users\\Chandu\\Anaconda3\\lib\\site-packages\\keras\\backend\\tensorflow_backend.py:422: The name tf.global_variables is deprecated. Please use tf.compat.v1.global_variables instead.\n",
      "\n",
      "Train on 13391 samples, validate on 6597 samples\n",
      "Epoch 1/10\n",
      "13391/13391 [==============================] - 1s 84us/step - loss: 0.4711 - accuracy: 0.9117 - val_loss: 0.0997 - val_accuracy: 0.9889\n",
      "Epoch 2/10\n",
      "13391/13391 [==============================] - 1s 99us/step - loss: 0.0843 - accuracy: 0.9901 - val_loss: 0.0935 - val_accuracy: 0.9889\n",
      "Epoch 3/10\n",
      "13391/13391 [==============================] - 1s 87us/step - loss: 0.0859 - accuracy: 0.9901 - val_loss: 0.0923 - val_accuracy: 0.9889\n",
      "Epoch 4/10\n",
      "13391/13391 [==============================] - 1s 93us/step - loss: 0.0843 - accuracy: 0.9901 - val_loss: 0.0933 - val_accuracy: 0.9889\n",
      "Epoch 5/10\n",
      "13391/13391 [==============================] - 1s 87us/step - loss: 0.0856 - accuracy: 0.9901 - val_loss: 0.0971 - val_accuracy: 0.9889\n",
      "Epoch 6/10\n",
      "13391/13391 [==============================] - 1s 104us/step - loss: 0.0848 - accuracy: 0.9901 - val_loss: 0.0929 - val_accuracy: 0.9889\n",
      "Epoch 7/10\n",
      "13391/13391 [==============================] - 1s 95us/step - loss: 0.0852 - accuracy: 0.9901 - val_loss: 0.0958 - val_accuracy: 0.9889\n",
      "Epoch 8/10\n",
      "13391/13391 [==============================] - 1s 109us/step - loss: 0.0839 - accuracy: 0.9901 - val_loss: 0.0922 - val_accuracy: 0.9889\n",
      "Epoch 9/10\n",
      "13391/13391 [==============================] - 2s 118us/step - loss: 0.0845 - accuracy: 0.9901 - val_loss: 0.0939 - val_accuracy: 0.9889\n",
      "Epoch 10/10\n",
      "13391/13391 [==============================] - 2s 114us/step - loss: 0.0856 - accuracy: 0.9901 - val_loss: 0.0913 - val_accuracy: 0.9889\n"
     ]
    }
   ],
   "source": [
    "# Using fit model\n",
    "history = model.fit(X_train, y_train, validation_data=(X_test, y_test), epochs=10, verbose=1)"
   ]
  },
  {
   "cell_type": "code",
   "execution_count": 12,
   "metadata": {},
   "outputs": [
    {
     "name": "stdout",
     "output_type": "stream",
     "text": [
      "[0.08150561188240395, 0.9900679588317871] [0.09134331179712656, 0.988934338092804]\n"
     ]
    }
   ],
   "source": [
    "train_mse = model.evaluate(X_train, y_train, verbose=0)\n",
    "test_mse = model.evaluate(X_test, y_test, verbose=0)\n",
    "print(train_mse, test_mse)"
   ]
  },
  {
   "cell_type": "code",
   "execution_count": 13,
   "metadata": {},
   "outputs": [
    {
     "name": "stdout",
     "output_type": "stream",
     "text": [
      "13391/13391 [==============================] - 0s 29us/step\n",
      "[0.08150561188240395, 0.9900679588317871]\n"
     ]
    }
   ],
   "source": [
    "#Train Accuracy\n",
    "train_acc = model.evaluate(X_train, y_train)\n",
    "print(train_acc)"
   ]
  },
  {
   "cell_type": "code",
   "execution_count": 14,
   "metadata": {},
   "outputs": [
    {
     "name": "stdout",
     "output_type": "stream",
     "text": [
      "[0.09134331179712656, 0.988934338092804]\n"
     ]
    }
   ],
   "source": [
    "#Test Accuracy\n",
    "test_acc = model.evaluate(X_test, y_test, verbose=0)\n",
    "print(test_acc)"
   ]
  },
  {
   "cell_type": "code",
   "execution_count": 25,
   "metadata": {},
   "outputs": [
    {
     "data": {
      "image/png": "[encoded data removed]",
      "text/plain": [
       "<Figure size 432x288 with 1 Axes>"
      ]
     },
     "metadata": {
      "needs_background": "light"
     },
     "output_type": "display_data"
    }
   ],
   "source": [
    "# plot accuracy during training\n",
    "pyplot.subplot(212)\n",
    "pyplot.title('Accuracy during training')\n",
    "pyplot.plot(history.history['accuracy'], label='train')\n",
    "pyplot.plot(history.history['val_accuracy'], label='test')\n",
    "pyplot.legend()\n",
    "pyplot.grid(True)\n",
    "pyplot.show()"
   ]
  },
  {
   "cell_type": "code",
   "execution_count": 24,
   "metadata": {},
   "outputs": [
    {
     "data": {
      "text/plain": [
       "<matplotlib.legend.Legend at 0x1ba3cd3f2b0>"
      ]
     },
     "execution_count": 24,
     "metadata": {},
     "output_type": "execute_result"
    },
    {
     "data": {
      "image/png": "[encoded data removed]",
      "text/plain": [
       "<Figure size 432x288 with 1 Axes>"
      ]
     },
     "metadata": {
      "needs_background": "light"
     },
     "output_type": "display_data"
    }
   ],
   "source": [
    "# plot loss during training\n",
    "pyplot.subplot(211)\n",
    "pyplot.title('Loss during training')\n",
    "pyplot.grid(True)\n",
    "pyplot.plot(history.history['loss'], label='train')\n",
    "pyplot.plot(history.history['val_loss'], label='test')\n",
    "pyplot.legend()"
   ]
  },
  {
   "cell_type": "markdown",
   "metadata": {},
   "source": [
    "# Multi-layer Perceptron (MLP)"
   ]
  },
  {
   "cell_type": "code",
   "execution_count": 15,
   "metadata": {},
   "outputs": [],
   "source": [
    "data = df[['pH','Temp','DO','Salinity','Conductivity', 'Ammonia', 'WQI']]"
   ]
  },
  {
   "cell_type": "code",
   "execution_count": 16,
   "metadata": {},
   "outputs": [
    {
     "data": {
      "text/html": [
       "<div>\n",
       "<style scoped>\n",
       "    .dataframe tbody tr th:only-of-type {\n",
       "        vertical-align: middle;\n",
       "    }\n",
       "\n",
       "    .dataframe tbody tr th {\n",
       "        vertical-align: top;\n",
       "    }\n",
       "\n",
       "    .dataframe thead th {\n",
       "        text-align: right;\n",
       "    }\n",
       "</style>\n",
       "<table border=\"1\" class=\"dataframe\">\n",
       "  <thead>\n",
       "    <tr style=\"text-align: right;\">\n",
       "      <th></th>\n",
       "      <th>pH</th>\n",
       "      <th>Temp</th>\n",
       "      <th>DO</th>\n",
       "      <th>Salinity</th>\n",
       "      <th>Conductivity</th>\n",
       "      <th>Ammonia</th>\n",
       "      <th>WQI</th>\n",
       "    </tr>\n",
       "  </thead>\n",
       "  <tbody>\n",
       "    <tr>\n",
       "      <th>0</th>\n",
       "      <td>7.900000</td>\n",
       "      <td>22.857426</td>\n",
       "      <td>15.832946</td>\n",
       "      <td>14.863006</td>\n",
       "      <td>2129.12337</td>\n",
       "      <td>0.663618</td>\n",
       "      <td>1083.079546</td>\n",
       "    </tr>\n",
       "    <tr>\n",
       "      <th>1</th>\n",
       "      <td>8.081018</td>\n",
       "      <td>16.000000</td>\n",
       "      <td>15.832946</td>\n",
       "      <td>14.863006</td>\n",
       "      <td>2129.12337</td>\n",
       "      <td>0.663618</td>\n",
       "      <td>1083.262152</td>\n",
       "    </tr>\n",
       "    <tr>\n",
       "      <th>2</th>\n",
       "      <td>8.081018</td>\n",
       "      <td>22.857426</td>\n",
       "      <td>15.832946</td>\n",
       "      <td>14.863006</td>\n",
       "      <td>2129.12337</td>\n",
       "      <td>0.663618</td>\n",
       "      <td>1083.362721</td>\n",
       "    </tr>\n",
       "    <tr>\n",
       "      <th>3</th>\n",
       "      <td>8.081018</td>\n",
       "      <td>22.857426</td>\n",
       "      <td>15.832946</td>\n",
       "      <td>14.863006</td>\n",
       "      <td>2129.12337</td>\n",
       "      <td>0.663618</td>\n",
       "      <td>1083.362721</td>\n",
       "    </tr>\n",
       "    <tr>\n",
       "      <th>4</th>\n",
       "      <td>8.081018</td>\n",
       "      <td>22.857426</td>\n",
       "      <td>15.832946</td>\n",
       "      <td>14.863006</td>\n",
       "      <td>2129.12337</td>\n",
       "      <td>0.663618</td>\n",
       "      <td>1083.362721</td>\n",
       "    </tr>\n",
       "  </tbody>\n",
       "</table>\n",
       "</div>"
      ],
      "text/plain": [
       "         pH       Temp         DO   Salinity  Conductivity   Ammonia  \\\n",
       "0  7.900000  22.857426  15.832946  14.863006    2129.12337  0.663618   \n",
       "1  8.081018  16.000000  15.832946  14.863006    2129.12337  0.663618   \n",
       "2  8.081018  22.857426  15.832946  14.863006    2129.12337  0.663618   \n",
       "3  8.081018  22.857426  15.832946  14.863006    2129.12337  0.663618   \n",
       "4  8.081018  22.857426  15.832946  14.863006    2129.12337  0.663618   \n",
       "\n",
       "           WQI  \n",
       "0  1083.079546  \n",
       "1  1083.262152  \n",
       "2  1083.362721  \n",
       "3  1083.362721  \n",
       "4  1083.362721  "
      ]
     },
     "execution_count": 16,
     "metadata": {},
     "output_type": "execute_result"
    }
   ],
   "source": [
    "data.head()"
   ]
  },
  {
   "cell_type": "code",
   "execution_count": 17,
   "metadata": {},
   "outputs": [
    {
     "name": "stderr",
     "output_type": "stream",
     "text": [
      "C:\\Users\\Chandu\\Anaconda3\\lib\\site-packages\\ipykernel_launcher.py:4: SettingWithCopyWarning: \n",
      "A value is trying to be set on a copy of a slice from a DataFrame.\n",
      "Try using .loc[row_indexer,col_indexer] = value instead\n",
      "\n",
      "See the caveats in the documentation: http://pandas.pydata.org/pandas-docs/stable/indexing.html#indexing-view-versus-copy\n",
      "  after removing the cwd from sys.path.\n",
      "C:\\Users\\Chandu\\Anaconda3\\lib\\site-packages\\ipykernel_launcher.py:5: SettingWithCopyWarning: \n",
      "A value is trying to be set on a copy of a slice from a DataFrame.\n",
      "Try using .loc[row_indexer,col_indexer] = value instead\n",
      "\n",
      "See the caveats in the documentation: http://pandas.pydata.org/pandas-docs/stable/indexing.html#indexing-view-versus-copy\n",
      "  \"\"\"\n",
      "C:\\Users\\Chandu\\Anaconda3\\lib\\site-packages\\ipykernel_launcher.py:6: SettingWithCopyWarning: \n",
      "A value is trying to be set on a copy of a slice from a DataFrame.\n",
      "Try using .loc[row_indexer,col_indexer] = value instead\n",
      "\n",
      "See the caveats in the documentation: http://pandas.pydata.org/pandas-docs/stable/indexing.html#indexing-view-versus-copy\n",
      "  \n",
      "C:\\Users\\Chandu\\Anaconda3\\lib\\site-packages\\ipykernel_launcher.py:7: SettingWithCopyWarning: \n",
      "A value is trying to be set on a copy of a slice from a DataFrame.\n",
      "Try using .loc[row_indexer,col_indexer] = value instead\n",
      "\n",
      "See the caveats in the documentation: http://pandas.pydata.org/pandas-docs/stable/indexing.html#indexing-view-versus-copy\n",
      "  import sys\n",
      "C:\\Users\\Chandu\\Anaconda3\\lib\\site-packages\\ipykernel_launcher.py:8: SettingWithCopyWarning: \n",
      "A value is trying to be set on a copy of a slice from a DataFrame.\n",
      "Try using .loc[row_indexer,col_indexer] = value instead\n",
      "\n",
      "See the caveats in the documentation: http://pandas.pydata.org/pandas-docs/stable/indexing.html#indexing-view-versus-copy\n",
      "  \n",
      "C:\\Users\\Chandu\\Anaconda3\\lib\\site-packages\\ipykernel_launcher.py:9: SettingWithCopyWarning: \n",
      "A value is trying to be set on a copy of a slice from a DataFrame.\n",
      "Try using .loc[row_indexer,col_indexer] = value instead\n",
      "\n",
      "See the caveats in the documentation: http://pandas.pydata.org/pandas-docs/stable/indexing.html#indexing-view-versus-copy\n",
      "  if __name__ == '__main__':\n",
      "C:\\Users\\Chandu\\Anaconda3\\lib\\site-packages\\ipykernel_launcher.py:10: SettingWithCopyWarning: \n",
      "A value is trying to be set on a copy of a slice from a DataFrame.\n",
      "Try using .loc[row_indexer,col_indexer] = value instead\n",
      "\n",
      "See the caveats in the documentation: http://pandas.pydata.org/pandas-docs/stable/indexing.html#indexing-view-versus-copy\n",
      "  # Remove the CWD from sys.path while we load stuff.\n"
     ]
    }
   ],
   "source": [
    "#Label encoding all parameters\n",
    "from sklearn.preprocessing import LabelEncoder\n",
    "le = LabelEncoder()\n",
    "data['pH'] = le.fit_transform(data['pH'])\n",
    "data['Temp'] = le.fit_transform(data['Temp'])\n",
    "data['Conductivity'] = le.fit_transform(data['Conductivity'])\n",
    "data['Salinity'] = le.fit_transform(data['Salinity'])\n",
    "data['DO'] = le.fit_transform(data['DO'])\n",
    "data['Ammonia'] = le.fit_transform(data['Ammonia'])\n",
    "data['WQI'] = le.fit_transform(data['WQI'])"
   ]
  },
  {
   "cell_type": "code",
   "execution_count": 18,
   "metadata": {},
   "outputs": [
    {
     "name": "stderr",
     "output_type": "stream",
     "text": [
      "C:\\Users\\Chandu\\Anaconda3\\lib\\site-packages\\ipykernel_launcher.py:4: SettingWithCopyWarning: \n",
      "A value is trying to be set on a copy of a slice from a DataFrame.\n",
      "Try using .loc[row_indexer,col_indexer] = value instead\n",
      "\n",
      "See the caveats in the documentation: http://pandas.pydata.org/pandas-docs/stable/indexing.html#indexing-view-versus-copy\n",
      "  after removing the cwd from sys.path.\n",
      "C:\\Users\\Chandu\\Anaconda3\\lib\\site-packages\\pandas\\core\\indexing.py:543: SettingWithCopyWarning: \n",
      "A value is trying to be set on a copy of a slice from a DataFrame.\n",
      "Try using .loc[row_indexer,col_indexer] = value instead\n",
      "\n",
      "See the caveats in the documentation: http://pandas.pydata.org/pandas-docs/stable/indexing.html#indexing-view-versus-copy\n",
      "  self.obj[item] = s\n"
     ]
    }
   ],
   "source": [
    "#Feature scaling of all input parameters\n",
    "from sklearn.preprocessing import StandardScaler\n",
    "sc = StandardScaler()\n",
    "data[['pH','Temp','DO','Salinity','Conductivity', 'Ammonia']] = sc.fit_transform(data[['pH','Temp','DO','Salinity','Conductivity', 'Ammonia']])"
   ]
  },
  {
   "cell_type": "code",
   "execution_count": 19,
   "metadata": {},
   "outputs": [],
   "source": [
    "#Splitting the dataset into  training and validation sets\n",
    "training_set, validation_set = train_test_split(data, test_size = 0.33, random_state = 21)"
   ]
  },
  {
   "cell_type": "code",
   "execution_count": 20,
   "metadata": {},
   "outputs": [],
   "source": [
    "#classifying the predictors and target variables as X and Y\n",
    "X_train = training_set.iloc[:,0:-1].values\n",
    "Y_train = training_set.iloc[:,-1].values\n",
    "X_val = validation_set.iloc[:,0:-1].values\n",
    "y_val = validation_set.iloc[:,-1].values"
   ]
  },
  {
   "cell_type": "code",
   "execution_count": 21,
   "metadata": {},
   "outputs": [],
   "source": [
    "#Using Confusion matix for accuracy calculation\n",
    "def accuracy(confusion_matrix):\n",
    "   diagonal_sum = confusion_matrix.trace()\n",
    "   sum_of_all_elements = confusion_matrix.sum()\n",
    "   return diagonal_sum / sum_of_all_elements * 100"
   ]
  },
  {
   "cell_type": "code",
   "execution_count": 22,
   "metadata": {},
   "outputs": [],
   "source": [
    "#Initializing the MLPClassifier\n",
    "classifier = MLPClassifier(hidden_layer_sizes=(150,100,50), max_iter=300,activation = 'relu',solver='adam',random_state=1)"
   ]
  },
  {
   "cell_type": "code",
   "execution_count": 23,
   "metadata": {},
   "outputs": [
    {
     "data": {
      "text/plain": [
       "MLPClassifier(activation='relu', alpha=0.0001, batch_size='auto', beta_1=0.9,\n",
       "              beta_2=0.999, early_stopping=False, epsilon=1e-08,\n",
       "              hidden_layer_sizes=(150, 100, 50), learning_rate='constant',\n",
       "              learning_rate_init=0.001, max_iter=300, momentum=0.9,\n",
       "              n_iter_no_change=10, nesterovs_momentum=True, power_t=0.5,\n",
       "              random_state=1, shuffle=True, solver='adam', tol=0.0001,\n",
       "              validation_fraction=0.1, verbose=False, warm_start=False)"
      ]
     },
     "execution_count": 23,
     "metadata": {},
     "output_type": "execute_result"
    }
   ],
   "source": [
    "#Fitting the training data to the network\n",
    "classifier.fit(X_train, Y_train)"
   ]
  },
  {
   "cell_type": "code",
   "execution_count": 24,
   "metadata": {},
   "outputs": [],
   "source": [
    "#Predicting y for X_val\n",
    "y_pred_train = classifier.predict(X_train)\n",
    "y_pred = classifier.predict(X_val)"
   ]
  },
  {
   "cell_type": "code",
   "execution_count": 25,
   "metadata": {},
   "outputs": [
    {
     "name": "stdout",
     "output_type": "stream",
     "text": [
      "Accuracy of MLPClassifier for train :  93.45829288327981\n",
      "Accuracy of MLPClassifier for test :  91.7841443080188\n"
     ]
    }
   ],
   "source": [
    "#Comparing the predictions against the actual observations in y_val\n",
    "cm1 = confusion_matrix(y_pred_train, Y_train)\n",
    "accu1 = accuracy(cm1)\n",
    "cm = confusion_matrix(y_pred, y_val)\n",
    "accu = accuracy(cm)\n",
    "#Printing the accuracy\n",
    "print(\"Accuracy of MLPClassifier for train : \", accu1 )\n",
    "print(\"Accuracy of MLPClassifier for test : \", accu )"
   ]
  },
  {
   "cell_type": "code",
   "execution_count": 19,
   "metadata": {},
   "outputs": [
    {
     "data": {
      "text/plain": [
       "150"
      ]
     },
     "execution_count": 19,
     "metadata": {},
     "output_type": "execute_result"
    }
   ],
   "source": [
    "np.size(classifier.coefs_[0])\n",
    "len(classifier.intercepts_[0])"
   ]
  },
  {
   "cell_type": "code",
   "execution_count": 20,
   "metadata": {},
   "outputs": [
    {
     "data": {
      "text/plain": [
       "Text(0, 0.5, 'Neuron in output layer')"
      ]
     },
     "execution_count": 20,
     "metadata": {},
     "output_type": "execute_result"
    },
    {
     "data": {
      "image/png": "[encoded data removed]",
      "text/plain": [
       "<Figure size 576x432 with 1 Axes>"
      ]
     },
     "metadata": {
      "needs_background": "light"
     },
     "output_type": "display_data"
    }
   ],
   "source": [
    "fig, ax = plt.subplots(1, 1, figsize=(8,6))\n",
    "ax.imshow(np.transpose(classifier.coefs_[0]), cmap=plt.get_cmap(\"gray\"), aspect=\"auto\")\n",
    "plt.title('Weights $\\Theta^{(1)}$')\n",
    "plt.xlabel('Neuron in input layer')\n",
    "plt.ylabel('Neuron in output layer')"
   ]
  },
  {
   "cell_type": "code",
   "execution_count": 33,
   "metadata": {},
   "outputs": [
    {
     "data": {
      "text/plain": [
       "Text(0, 0.5, 'loss function')"
      ]
     },
     "execution_count": 33,
     "metadata": {},
     "output_type": "execute_result"
    },
    {
     "data": {
      "image/png": "[encoded data removed]",
      "text/plain": [
       "<Figure size 432x288 with 1 Axes>"
      ]
     },
     "metadata": {
      "needs_background": "light"
     },
     "output_type": "display_data"
    }
   ],
   "source": [
    "# plot loss during training\n",
    "plt.plot(classifier.loss_curve_, 'ro-')\n",
    "plt.title('Loss During GD (rate=0.001)')\n",
    "plt.grid(True)\n",
    "plt.xlabel('number of steps')\n",
    "plt.ylabel('loss function')"
   ]
  },
  {
   "cell_type": "code",
   "execution_count": 31,
   "metadata": {},
   "outputs": [
    {
     "data": {
      "text/plain": [
       "MLPClassifier(activation='relu', alpha=0.0001, batch_size='auto', beta_1=0.9,\n",
       "              beta_2=0.999, early_stopping=False, epsilon=1e-08,\n",
       "              hidden_layer_sizes=(150, 100, 50), learning_rate='constant',\n",
       "              learning_rate_init=1, max_iter=300, momentum=0.9,\n",
       "              n_iter_no_change=10, nesterovs_momentum=True, power_t=0.5,\n",
       "              random_state=1, shuffle=True, solver='adam', tol=0.0001,\n",
       "              validation_fraction=0.1, verbose=False, warm_start=False)"
      ]
     },
     "execution_count": 31,
     "metadata": {},
     "output_type": "execute_result"
    }
   ],
   "source": [
    "classifier.learning_rate_init = 1\n",
    "classifier.fit(X_train, Y_train)"
   ]
  },
  {
   "cell_type": "code",
   "execution_count": 30,
   "metadata": {},
   "outputs": [
    {
     "data": {
      "text/plain": [
       "Text(0, 0.5, 'loss function')"
      ]
     },
     "execution_count": 30,
     "metadata": {},
     "output_type": "execute_result"
    },
    {
     "data": {
      "image/png": "[encoded data removed]",
      "text/plain": [
       "<Figure size 432x288 with 1 Axes>"
      ]
     },
     "metadata": {
      "needs_background": "light"
     },
     "output_type": "display_data"
    }
   ],
   "source": [
    "# plot loss during training\n",
    "plt.plot(classifier.loss_curve_, 'bo-')\n",
    "plt.title('Loss During GD (rate=1)')\n",
    "plt.grid(True)\n",
    "plt.xlabel('number of steps')\n",
    "plt.ylabel('loss function')"
   ]
  },
  {
   "cell_type": "code",
   "execution_count": 34,
   "metadata": {},
   "outputs": [],
   "source": [
    "#Cross-Validation\n",
    "from sklearn.model_selection import GridSearchCV\n",
    "params = { 'hidden_layer_sizes' : [(100, 100, 100), (125, 125, 125)] }\n",
    "\n",
    "gscv = GridSearchCV(classifier, params, verbose=1)"
   ]
  },
  {
   "cell_type": "code",
   "execution_count": 23,
   "metadata": {},
   "outputs": [
    {
     "name": "stderr",
     "output_type": "stream",
     "text": [
      "C:\\Users\\Chandu\\Anaconda3\\lib\\site-packages\\sklearn\\model_selection\\_split.py:1978: FutureWarning: The default value of cv will change from 3 to 5 in version 0.22. Specify it explicitly to silence this warning.\n",
      "  warnings.warn(CV_WARNING, FutureWarning)\n",
      "C:\\Users\\Chandu\\Anaconda3\\lib\\site-packages\\sklearn\\model_selection\\_split.py:657: Warning: The least populated class in y has only 1 members, which is too few. The minimum number of members in any class cannot be less than n_splits=3.\n",
      "  % (min_groups, self.n_splits)), Warning)\n",
      "[Parallel(n_jobs=1)]: Using backend SequentialBackend with 1 concurrent workers.\n"
     ]
    },
    {
     "name": "stdout",
     "output_type": "stream",
     "text": [
      "Fitting 3 folds for each of 2 candidates, totalling 6 fits\n"
     ]
    },
    {
     "name": "stderr",
     "output_type": "stream",
     "text": [
      "[Parallel(n_jobs=1)]: Done   6 out of   6 | elapsed: 10.1min finished\n",
      "C:\\Users\\Chandu\\Anaconda3\\lib\\site-packages\\sklearn\\model_selection\\_search.py:813: DeprecationWarning: The default of the `iid` parameter will change from True to False in version 0.22 and will be removed in 0.24. This will change numeric results when test-set sizes are unequal.\n",
      "  DeprecationWarning)\n"
     ]
    },
    {
     "name": "stdout",
     "output_type": "stream",
     "text": [
      "{'hidden_layer_sizes': (100, 100, 100)}\n",
      "0.9201152038805518\n"
     ]
    }
   ],
   "source": [
    "gscv.fit(X_train, Y_train)\n",
    "print(gscv.best_params_) \n",
    "\n",
    "predicted_values = gscv.predict(X_val)\n",
    "score = accuracy_score(y_val,predicted_values)\n",
    "print(score)"
   ]
  },
  {
   "cell_type": "code",
   "execution_count": 37,
   "metadata": {},
   "outputs": [
    {
     "name": "stdout",
     "output_type": "stream",
     "text": [
      "Mean Square Error =  117.56798544793088\n"
     ]
    }
   ],
   "source": [
    "#Calculating the mean squared error\n",
    "mean_square_error = mean_squared_error(y_val, y_pred)\n",
    "print(\"Mean Square Error = \", mean_square_error)"
   ]
  },
  {
   "cell_type": "code",
   "execution_count": 38,
   "metadata": {},
   "outputs": [
    {
     "name": "stdout",
     "output_type": "stream",
     "text": [
      "Root Mean Square Error = 10.842877175728354\n"
     ]
    }
   ],
   "source": [
    "#Calculating the root mean squared error\n",
    "root_mean_square_error = sqrt(mean_squared_error(y_val, y_pred))\n",
    "print(\"Root Mean Square Error =\", root_mean_square_error)"
   ]
  },
  {
   "cell_type": "code",
   "execution_count": 39,
   "metadata": {},
   "outputs": [
    {
     "name": "stdout",
     "output_type": "stream",
     "text": [
      "Mean Absolute Error =  0.6460512354100348\n"
     ]
    }
   ],
   "source": [
    "#Calculating the mean absolute error\n",
    "mae = mean_absolute_error(y_val, y_pred)\n",
    "print(\"Mean Absolute Error = \", mae)"
   ]
  },
  {
   "cell_type": "code",
   "execution_count": 48,
   "metadata": {},
   "outputs": [
    {
     "data": {
      "image/png": "[encoded data removed]",
      "text/plain": [
       "<Figure size 432x288 with 1 Axes>"
      ]
     },
     "metadata": {},
     "output_type": "display_data"
    }
   ],
   "source": [
    "plot_learning_curves(X_train, Y_train, X_val, y_val, classifier)\n",
    "plt.show()"
   ]
  }
 ],
 "metadata": {
  "kernelspec": {
   "display_name": "Python 3",
   "language": "python",
   "name": "python3"
  },
  "language_info": {
   "codemirror_mode": {
    "name": "ipython",
    "version": 3
   },
   "file_extension": ".py",
   "mimetype": "text/x-python",
   "name": "python",
   "nbconvert_exporter": "python",
   "pygments_lexer": "ipython3",
   "version": "3.7.3"
  }
 },
 "nbformat": 4,
 "nbformat_minor": 2
}
