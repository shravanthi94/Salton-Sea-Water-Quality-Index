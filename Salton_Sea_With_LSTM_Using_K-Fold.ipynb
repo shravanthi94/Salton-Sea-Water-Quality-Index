{
 "cells": [
  {
   "cell_type": "code",
   "execution_count": 1,
   "metadata": {},
   "outputs": [
    {
     "name": "stderr",
     "output_type": "stream",
     "text": [
      "Using TensorFlow backend.\n"
     ]
    }
   ],
   "source": [
    "# Python code to illustrate  \n",
    "# classification using data set \n",
    "#Importing the required library \n",
    "import pandas as pd \n",
    "import sklearn\n",
    "import keras\n",
    "from sklearn.model_selection import train_test_split\n",
    "# from sklearn.cross_validation import train_test_split \n",
    "from sklearn.ensemble import RandomForestClassifier \n",
    "from sklearn.preprocessing import LabelEncoder \n",
    "from sklearn.metrics import confusion_matrix \n",
    "from sklearn.metrics import accuracy_score \n",
    "from sklearn.metrics import classification_report "
   ]
  },
  {
   "cell_type": "code",
   "execution_count": 2,
   "metadata": {},
   "outputs": [],
   "source": [
    "import pandas as pd\n",
    "import numpy as np\n",
    "import tensorflow as tf\n",
    "%matplotlib inline\n",
    "import matplotlib.pyplot as plt\n",
    "from sklearn.preprocessing import MinMaxScaler\n",
    "from sklearn.metrics import r2_score\n",
    "from keras.models import Sequential\n",
    "from keras.layers import Dense\n",
    "from keras.callbacks import EarlyStopping\n",
    "from keras.optimizers import Adam\n",
    "from keras.layers import LSTM"
   ]
  },
  {
   "cell_type": "markdown",
   "metadata": {},
   "source": [
    "# Loading Data"
   ]
  },
  {
   "cell_type": "code",
   "execution_count": 3,
   "metadata": {},
   "outputs": [],
   "source": [
    "#Importing the dataset \n",
    "df = pd.read_csv( \n",
    "     \"C:/Users/summo/OneDrive/Desktop/PROJECT_PICS/NEW DATA_SET/Own_Data/Result/Full_Data_Mean_Result.csv\", header=0) \n"
   ]
  },
  {
   "cell_type": "code",
   "execution_count": 4,
   "metadata": {},
   "outputs": [
    {
     "data": {
      "text/html": [
       "<div>\n",
       "<style scoped>\n",
       "    .dataframe tbody tr th:only-of-type {\n",
       "        vertical-align: middle;\n",
       "    }\n",
       "\n",
       "    .dataframe tbody tr th {\n",
       "        vertical-align: top;\n",
       "    }\n",
       "\n",
       "    .dataframe thead th {\n",
       "        text-align: right;\n",
       "    }\n",
       "</style>\n",
       "<table border=\"1\" class=\"dataframe\">\n",
       "  <thead>\n",
       "    <tr style=\"text-align: right;\">\n",
       "      <th></th>\n",
       "      <th>Date</th>\n",
       "      <th>pH</th>\n",
       "      <th>Temp</th>\n",
       "      <th>DO</th>\n",
       "      <th>Salinity</th>\n",
       "      <th>Conductivity</th>\n",
       "      <th>Ammonia</th>\n",
       "      <th>Q pH</th>\n",
       "      <th>Q Temp</th>\n",
       "      <th>Q DO</th>\n",
       "      <th>...</th>\n",
       "      <th>Q pH * W pH</th>\n",
       "      <th>Q Temp * W Temp</th>\n",
       "      <th>Q DO * W DO</th>\n",
       "      <th>Q Salinity * W Salinity</th>\n",
       "      <th>Q Conductivity * W Conductivity</th>\n",
       "      <th>Q Ammonia * W Ammonia</th>\n",
       "      <th>Wn</th>\n",
       "      <th>Q * W</th>\n",
       "      <th>WQI</th>\n",
       "      <th>Result</th>\n",
       "    </tr>\n",
       "  </thead>\n",
       "  <tbody>\n",
       "    <tr>\n",
       "      <td>0</td>\n",
       "      <td>10/17/1974</td>\n",
       "      <td>7.900000</td>\n",
       "      <td>22.857426</td>\n",
       "      <td>15.832946</td>\n",
       "      <td>14.863006</td>\n",
       "      <td>2129.12337</td>\n",
       "      <td>0.663618</td>\n",
       "      <td>180.000000</td>\n",
       "      <td>114.287132</td>\n",
       "      <td>-14.336577</td>\n",
       "      <td>...</td>\n",
       "      <td>1.407915</td>\n",
       "      <td>0.335222</td>\n",
       "      <td>-0.140171</td>\n",
       "      <td>0.071176</td>\n",
       "      <td>0.019516</td>\n",
       "      <td>1081.385888</td>\n",
       "      <td>1</td>\n",
       "      <td>1083.079546</td>\n",
       "      <td>1083.079546</td>\n",
       "      <td>5</td>\n",
       "    </tr>\n",
       "    <tr>\n",
       "      <td>1</td>\n",
       "      <td>10/17/1974</td>\n",
       "      <td>8.081018</td>\n",
       "      <td>16.000000</td>\n",
       "      <td>15.832946</td>\n",
       "      <td>14.863006</td>\n",
       "      <td>2129.12337</td>\n",
       "      <td>0.663618</td>\n",
       "      <td>216.203608</td>\n",
       "      <td>80.000000</td>\n",
       "      <td>-14.336577</td>\n",
       "      <td>...</td>\n",
       "      <td>1.691090</td>\n",
       "      <td>0.234652</td>\n",
       "      <td>-0.140171</td>\n",
       "      <td>0.071176</td>\n",
       "      <td>0.019516</td>\n",
       "      <td>1081.385888</td>\n",
       "      <td>1</td>\n",
       "      <td>1083.262152</td>\n",
       "      <td>1083.262152</td>\n",
       "      <td>5</td>\n",
       "    </tr>\n",
       "    <tr>\n",
       "      <td>2</td>\n",
       "      <td>10/18/1974</td>\n",
       "      <td>8.081018</td>\n",
       "      <td>22.857426</td>\n",
       "      <td>15.832946</td>\n",
       "      <td>14.863006</td>\n",
       "      <td>2129.12337</td>\n",
       "      <td>0.663618</td>\n",
       "      <td>216.203608</td>\n",
       "      <td>114.287132</td>\n",
       "      <td>-14.336577</td>\n",
       "      <td>...</td>\n",
       "      <td>1.691090</td>\n",
       "      <td>0.335222</td>\n",
       "      <td>-0.140171</td>\n",
       "      <td>0.071176</td>\n",
       "      <td>0.019516</td>\n",
       "      <td>1081.385888</td>\n",
       "      <td>1</td>\n",
       "      <td>1083.362721</td>\n",
       "      <td>1083.362721</td>\n",
       "      <td>5</td>\n",
       "    </tr>\n",
       "    <tr>\n",
       "      <td>3</td>\n",
       "      <td>10/19/1974</td>\n",
       "      <td>8.081018</td>\n",
       "      <td>22.857426</td>\n",
       "      <td>15.832946</td>\n",
       "      <td>14.863006</td>\n",
       "      <td>2129.12337</td>\n",
       "      <td>0.663618</td>\n",
       "      <td>216.203608</td>\n",
       "      <td>114.287132</td>\n",
       "      <td>-14.336577</td>\n",
       "      <td>...</td>\n",
       "      <td>1.691090</td>\n",
       "      <td>0.335222</td>\n",
       "      <td>-0.140171</td>\n",
       "      <td>0.071176</td>\n",
       "      <td>0.019516</td>\n",
       "      <td>1081.385888</td>\n",
       "      <td>1</td>\n",
       "      <td>1083.362721</td>\n",
       "      <td>1083.362721</td>\n",
       "      <td>5</td>\n",
       "    </tr>\n",
       "    <tr>\n",
       "      <td>4</td>\n",
       "      <td>10/20/1974</td>\n",
       "      <td>8.081018</td>\n",
       "      <td>22.857426</td>\n",
       "      <td>15.832946</td>\n",
       "      <td>14.863006</td>\n",
       "      <td>2129.12337</td>\n",
       "      <td>0.663618</td>\n",
       "      <td>216.203608</td>\n",
       "      <td>114.287132</td>\n",
       "      <td>-14.336577</td>\n",
       "      <td>...</td>\n",
       "      <td>1.691090</td>\n",
       "      <td>0.335222</td>\n",
       "      <td>-0.140171</td>\n",
       "      <td>0.071176</td>\n",
       "      <td>0.019516</td>\n",
       "      <td>1081.385888</td>\n",
       "      <td>1</td>\n",
       "      <td>1083.362721</td>\n",
       "      <td>1083.362721</td>\n",
       "      <td>5</td>\n",
       "    </tr>\n",
       "  </tbody>\n",
       "</table>\n",
       "<p>5 rows × 29 columns</p>\n",
       "</div>"
      ],
      "text/plain": [
       "         Date        pH       Temp         DO   Salinity  Conductivity  \\\n",
       "0  10/17/1974  7.900000  22.857426  15.832946  14.863006    2129.12337   \n",
       "1  10/17/1974  8.081018  16.000000  15.832946  14.863006    2129.12337   \n",
       "2  10/18/1974  8.081018  22.857426  15.832946  14.863006    2129.12337   \n",
       "3  10/19/1974  8.081018  22.857426  15.832946  14.863006    2129.12337   \n",
       "4  10/20/1974  8.081018  22.857426  15.832946  14.863006    2129.12337   \n",
       "\n",
       "    Ammonia        Q pH      Q Temp       Q DO  ...  Q pH * W pH  \\\n",
       "0  0.663618  180.000000  114.287132 -14.336577  ...     1.407915   \n",
       "1  0.663618  216.203608   80.000000 -14.336577  ...     1.691090   \n",
       "2  0.663618  216.203608  114.287132 -14.336577  ...     1.691090   \n",
       "3  0.663618  216.203608  114.287132 -14.336577  ...     1.691090   \n",
       "4  0.663618  216.203608  114.287132 -14.336577  ...     1.691090   \n",
       "\n",
       "   Q Temp * W Temp  Q DO * W DO  Q Salinity * W Salinity  \\\n",
       "0         0.335222    -0.140171                 0.071176   \n",
       "1         0.234652    -0.140171                 0.071176   \n",
       "2         0.335222    -0.140171                 0.071176   \n",
       "3         0.335222    -0.140171                 0.071176   \n",
       "4         0.335222    -0.140171                 0.071176   \n",
       "\n",
       "   Q Conductivity * W Conductivity  Q Ammonia * W Ammonia  Wn        Q * W  \\\n",
       "0                         0.019516            1081.385888   1  1083.079546   \n",
       "1                         0.019516            1081.385888   1  1083.262152   \n",
       "2                         0.019516            1081.385888   1  1083.362721   \n",
       "3                         0.019516            1081.385888   1  1083.362721   \n",
       "4                         0.019516            1081.385888   1  1083.362721   \n",
       "\n",
       "           WQI  Result  \n",
       "0  1083.079546       5  \n",
       "1  1083.262152       5  \n",
       "2  1083.362721       5  \n",
       "3  1083.362721       5  \n",
       "4  1083.362721       5  \n",
       "\n",
       "[5 rows x 29 columns]"
      ]
     },
     "execution_count": 4,
     "metadata": {},
     "output_type": "execute_result"
    }
   ],
   "source": [
    "df.head()"
   ]
  },
  {
   "cell_type": "markdown",
   "metadata": {},
   "source": [
    "# Data preparation"
   ]
  },
  {
   "cell_type": "code",
   "execution_count": 5,
   "metadata": {},
   "outputs": [],
   "source": [
    "#seperating the predicting column from the whole dataset \n",
    "\n",
    "X = df.iloc[:,1:7]\n",
    "\n",
    "#X=del df['Result']\n",
    "#X  = df.iloc[:, 1:7].values \n",
    "# y = df.iloc[:, -1].values "
   ]
  },
  {
   "cell_type": "code",
   "execution_count": 6,
   "metadata": {},
   "outputs": [
    {
     "data": {
      "text/html": [
       "<div>\n",
       "<style scoped>\n",
       "    .dataframe tbody tr th:only-of-type {\n",
       "        vertical-align: middle;\n",
       "    }\n",
       "\n",
       "    .dataframe tbody tr th {\n",
       "        vertical-align: top;\n",
       "    }\n",
       "\n",
       "    .dataframe thead th {\n",
       "        text-align: right;\n",
       "    }\n",
       "</style>\n",
       "<table border=\"1\" class=\"dataframe\">\n",
       "  <thead>\n",
       "    <tr style=\"text-align: right;\">\n",
       "      <th></th>\n",
       "      <th>pH</th>\n",
       "      <th>Temp</th>\n",
       "      <th>DO</th>\n",
       "      <th>Salinity</th>\n",
       "      <th>Conductivity</th>\n",
       "      <th>Ammonia</th>\n",
       "    </tr>\n",
       "  </thead>\n",
       "  <tbody>\n",
       "    <tr>\n",
       "      <td>0</td>\n",
       "      <td>7.900000</td>\n",
       "      <td>22.857426</td>\n",
       "      <td>15.832946</td>\n",
       "      <td>14.863006</td>\n",
       "      <td>2129.12337</td>\n",
       "      <td>0.663618</td>\n",
       "    </tr>\n",
       "    <tr>\n",
       "      <td>1</td>\n",
       "      <td>8.081018</td>\n",
       "      <td>16.000000</td>\n",
       "      <td>15.832946</td>\n",
       "      <td>14.863006</td>\n",
       "      <td>2129.12337</td>\n",
       "      <td>0.663618</td>\n",
       "    </tr>\n",
       "    <tr>\n",
       "      <td>2</td>\n",
       "      <td>8.081018</td>\n",
       "      <td>22.857426</td>\n",
       "      <td>15.832946</td>\n",
       "      <td>14.863006</td>\n",
       "      <td>2129.12337</td>\n",
       "      <td>0.663618</td>\n",
       "    </tr>\n",
       "    <tr>\n",
       "      <td>3</td>\n",
       "      <td>8.081018</td>\n",
       "      <td>22.857426</td>\n",
       "      <td>15.832946</td>\n",
       "      <td>14.863006</td>\n",
       "      <td>2129.12337</td>\n",
       "      <td>0.663618</td>\n",
       "    </tr>\n",
       "    <tr>\n",
       "      <td>4</td>\n",
       "      <td>8.081018</td>\n",
       "      <td>22.857426</td>\n",
       "      <td>15.832946</td>\n",
       "      <td>14.863006</td>\n",
       "      <td>2129.12337</td>\n",
       "      <td>0.663618</td>\n",
       "    </tr>\n",
       "  </tbody>\n",
       "</table>\n",
       "</div>"
      ],
      "text/plain": [
       "         pH       Temp         DO   Salinity  Conductivity   Ammonia\n",
       "0  7.900000  22.857426  15.832946  14.863006    2129.12337  0.663618\n",
       "1  8.081018  16.000000  15.832946  14.863006    2129.12337  0.663618\n",
       "2  8.081018  22.857426  15.832946  14.863006    2129.12337  0.663618\n",
       "3  8.081018  22.857426  15.832946  14.863006    2129.12337  0.663618\n",
       "4  8.081018  22.857426  15.832946  14.863006    2129.12337  0.663618"
      ]
     },
     "execution_count": 6,
     "metadata": {},
     "output_type": "execute_result"
    }
   ],
   "source": [
    "X.head()"
   ]
  },
  {
   "cell_type": "code",
   "execution_count": 7,
   "metadata": {},
   "outputs": [],
   "source": [
    "y=df['Result']"
   ]
  },
  {
   "cell_type": "code",
   "execution_count": 8,
   "metadata": {},
   "outputs": [
    {
     "data": {
      "text/plain": [
       "0    5\n",
       "1    5\n",
       "2    5\n",
       "3    5\n",
       "4    5\n",
       "Name: Result, dtype: int64"
      ]
     },
     "execution_count": 8,
     "metadata": {},
     "output_type": "execute_result"
    }
   ],
   "source": [
    "y.head()"
   ]
  },
  {
   "cell_type": "markdown",
   "metadata": {},
   "source": [
    "# LSTM with K-Fold"
   ]
  },
  {
   "cell_type": "code",
   "execution_count": 9,
   "metadata": {},
   "outputs": [
    {
     "name": "stderr",
     "output_type": "stream",
     "text": [
      "C:\\Users\\summo\\AppData\\Local\\Continuum\\anaconda3\\envs\\tf\\lib\\site-packages\\ipykernel_launcher.py:18: FutureWarning: Method .as_matrix will be removed in a future version. Use .values instead.\n",
      "C:\\Users\\summo\\AppData\\Local\\Continuum\\anaconda3\\envs\\tf\\lib\\site-packages\\ipykernel_launcher.py:19: FutureWarning: Method .as_matrix will be removed in a future version. Use .values instead.\n",
      "C:\\Users\\summo\\AppData\\Local\\Continuum\\anaconda3\\envs\\tf\\lib\\site-packages\\ipykernel_launcher.py:21: FutureWarning: Method .as_matrix will be removed in a future version. Use .values instead.\n",
      "C:\\Users\\summo\\AppData\\Local\\Continuum\\anaconda3\\envs\\tf\\lib\\site-packages\\ipykernel_launcher.py:22: FutureWarning: Method .as_matrix will be removed in a future version. Use .values instead.\n",
      "WARNING: Logging before flag parsing goes to stderr.\n",
      "W1213 19:27:12.849649 11300 deprecation_wrapper.py:119] From C:\\Users\\summo\\AppData\\Local\\Continuum\\anaconda3\\envs\\tf\\lib\\site-packages\\keras\\backend\\tensorflow_backend.py:74: The name tf.get_default_graph is deprecated. Please use tf.compat.v1.get_default_graph instead.\n",
      "\n",
      "W1213 19:27:12.871803 11300 deprecation_wrapper.py:119] From C:\\Users\\summo\\AppData\\Local\\Continuum\\anaconda3\\envs\\tf\\lib\\site-packages\\keras\\backend\\tensorflow_backend.py:517: The name tf.placeholder is deprecated. Please use tf.compat.v1.placeholder instead.\n",
      "\n",
      "W1213 19:27:12.875298 11300 deprecation_wrapper.py:119] From C:\\Users\\summo\\AppData\\Local\\Continuum\\anaconda3\\envs\\tf\\lib\\site-packages\\keras\\backend\\tensorflow_backend.py:4138: The name tf.random_uniform is deprecated. Please use tf.random.uniform instead.\n",
      "\n"
     ]
    },
    {
     "name": "stdout",
     "output_type": "stream",
     "text": [
      "KFold(n_splits=4, random_state=None, shuffle=False)\n",
      "TRAIN: [ 4997  4998  4999 ... 19985 19986 19987] TEST: [   0    1    2 ... 4994 4995 4996]\n"
     ]
    },
    {
     "name": "stderr",
     "output_type": "stream",
     "text": [
      "W1213 19:27:13.532071 11300 deprecation_wrapper.py:119] From C:\\Users\\summo\\AppData\\Local\\Continuum\\anaconda3\\envs\\tf\\lib\\site-packages\\keras\\optimizers.py:790: The name tf.train.Optimizer is deprecated. Please use tf.compat.v1.train.Optimizer instead.\n",
      "\n",
      "W1213 19:27:14.008829 11300 deprecation.py:323] From C:\\Users\\summo\\AppData\\Local\\Continuum\\anaconda3\\envs\\tf\\lib\\site-packages\\tensorflow\\python\\ops\\math_grad.py:1250: add_dispatch_support.<locals>.wrapper (from tensorflow.python.ops.array_ops) is deprecated and will be removed in a future version.\n",
      "Instructions for updating:\n",
      "Use tf.where in 2.0, which has the same broadcast rule as np.where\n",
      "W1213 19:27:15.111101 11300 deprecation_wrapper.py:119] From C:\\Users\\summo\\AppData\\Local\\Continuum\\anaconda3\\envs\\tf\\lib\\site-packages\\keras\\backend\\tensorflow_backend.py:986: The name tf.assign_add is deprecated. Please use tf.compat.v1.assign_add instead.\n",
      "\n",
      "W1213 19:27:15.361742 11300 deprecation_wrapper.py:119] From C:\\Users\\summo\\AppData\\Local\\Continuum\\anaconda3\\envs\\tf\\lib\\site-packages\\keras\\backend\\tensorflow_backend.py:973: The name tf.assign is deprecated. Please use tf.compat.v1.assign instead.\n",
      "\n"
     ]
    },
    {
     "name": "stdout",
     "output_type": "stream",
     "text": [
      "Epoch 1/10\n",
      "14991/14991 [==============================] - 8s 506us/step - loss: 1860.4764 - acc: 0.6393\n",
      "Epoch 2/10\n",
      "14991/14991 [==============================] - 5s 322us/step - loss: 0.4670 - acc: 0.9077\n",
      "Epoch 3/10\n",
      "14991/14991 [==============================] - 5s 309us/step - loss: 0.4140 - acc: 0.9133\n",
      "Epoch 4/10\n",
      "14991/14991 [==============================] - 5s 326us/step - loss: 0.3903 - acc: 0.9093\n",
      "Epoch 5/10\n",
      "14991/14991 [==============================] - 5s 350us/step - loss: 0.3948 - acc: 0.8783\n",
      "Epoch 6/10\n",
      "14991/14991 [==============================] - 5s 326us/step - loss: 0.4405 - acc: 0.8584\n",
      "Epoch 7/10\n",
      "14991/14991 [==============================] - 5s 333us/step - loss: 0.3092 - acc: 0.8891\n",
      "Epoch 8/10\n",
      "14991/14991 [==============================] - 5s 323us/step - loss: 0.3577 - acc: 0.8867\n",
      "Epoch 9/10\n",
      "14991/14991 [==============================] - 5s 325us/step - loss: 0.2533 - acc: 0.9146\n",
      "Epoch 10/10\n",
      "14991/14991 [==============================] - 4s 289us/step - loss: 0.2562 - acc: 0.8979\n",
      "The R2 score on the Train set is:\t-1.053\n",
      "The R2 score on the Test set is:\t-1.240\n",
      "4997/4997 [==============================] - 9s 2ms/step\n",
      "LSTM Loss: 0.187825\n",
      "LSTM Accuracy: 0.906344\n",
      "TRAIN: [    0     1     2 ... 19985 19986 19987] TEST: [4997 4998 4999 ... 9991 9992 9993]\n"
     ]
    },
    {
     "name": "stderr",
     "output_type": "stream",
     "text": [
      "C:\\Users\\summo\\AppData\\Local\\Continuum\\anaconda3\\envs\\tf\\lib\\site-packages\\ipykernel_launcher.py:18: FutureWarning: Method .as_matrix will be removed in a future version. Use .values instead.\n",
      "C:\\Users\\summo\\AppData\\Local\\Continuum\\anaconda3\\envs\\tf\\lib\\site-packages\\ipykernel_launcher.py:19: FutureWarning: Method .as_matrix will be removed in a future version. Use .values instead.\n",
      "C:\\Users\\summo\\AppData\\Local\\Continuum\\anaconda3\\envs\\tf\\lib\\site-packages\\ipykernel_launcher.py:21: FutureWarning: Method .as_matrix will be removed in a future version. Use .values instead.\n",
      "C:\\Users\\summo\\AppData\\Local\\Continuum\\anaconda3\\envs\\tf\\lib\\site-packages\\ipykernel_launcher.py:22: FutureWarning: Method .as_matrix will be removed in a future version. Use .values instead.\n"
     ]
    },
    {
     "name": "stdout",
     "output_type": "stream",
     "text": [
      "Epoch 1/10\n",
      "14991/14991 [==============================] - 7s 479us/step - loss: 328.6660 - acc: 0.0789\n",
      "Epoch 2/10\n",
      "14991/14991 [==============================] - 4s 291us/step - loss: 0.2595 - acc: 0.9753\n",
      "Epoch 3/10\n",
      "14991/14991 [==============================] - 4s 287us/step - loss: 0.2531 - acc: 0.9755\n",
      "Epoch 4/10\n",
      "14991/14991 [==============================] - 4s 295us/step - loss: 0.2514 - acc: 0.9755\n",
      "Epoch 5/10\n",
      "14991/14991 [==============================] - 4s 297us/step - loss: 0.2500 - acc: 0.9755\n",
      "Epoch 6/10\n",
      "14991/14991 [==============================] - 5s 302us/step - loss: 0.2490 - acc: 0.9755\n",
      "Epoch 7/10\n",
      "14991/14991 [==============================] - 4s 288us/step - loss: 0.2479 - acc: 0.9755\n",
      "Epoch 8/10\n",
      "14991/14991 [==============================] - 5s 327us/step - loss: 6.9731 - acc: 0.9483\n",
      "Epoch 9/10\n",
      "14991/14991 [==============================] - 4s 294us/step - loss: 0.2469 - acc: 0.9757\n",
      "Epoch 10/10\n",
      "14991/14991 [==============================] - 4s 294us/step - loss: 0.2460 - acc: 0.9757\n",
      "The R2 score on the Train set is:\t-1.205\n",
      "The R2 score on the Test set is:\t0.000\n",
      "4997/4997 [==============================] - 10s 2ms/step\n",
      "LSTM Loss: 0.001369\n",
      "LSTM Accuracy: 0.999400\n",
      "TRAIN: [    0     1     2 ... 19985 19986 19987] TEST: [ 9994  9995  9996 ... 14988 14989 14990]\n"
     ]
    },
    {
     "name": "stderr",
     "output_type": "stream",
     "text": [
      "C:\\Users\\summo\\AppData\\Local\\Continuum\\anaconda3\\envs\\tf\\lib\\site-packages\\ipykernel_launcher.py:18: FutureWarning: Method .as_matrix will be removed in a future version. Use .values instead.\n",
      "C:\\Users\\summo\\AppData\\Local\\Continuum\\anaconda3\\envs\\tf\\lib\\site-packages\\ipykernel_launcher.py:19: FutureWarning: Method .as_matrix will be removed in a future version. Use .values instead.\n",
      "C:\\Users\\summo\\AppData\\Local\\Continuum\\anaconda3\\envs\\tf\\lib\\site-packages\\ipykernel_launcher.py:21: FutureWarning: Method .as_matrix will be removed in a future version. Use .values instead.\n",
      "C:\\Users\\summo\\AppData\\Local\\Continuum\\anaconda3\\envs\\tf\\lib\\site-packages\\ipykernel_launcher.py:22: FutureWarning: Method .as_matrix will be removed in a future version. Use .values instead.\n"
     ]
    },
    {
     "name": "stdout",
     "output_type": "stream",
     "text": [
      "Epoch 1/10\n",
      "14991/14991 [==============================] - 8s 539us/step - loss: 853.5934 - acc: 0.6280\n",
      "Epoch 2/10\n",
      "14991/14991 [==============================] - 5s 344us/step - loss: 469.0762 - acc: 0.6769\n",
      "Epoch 3/10\n",
      "14991/14991 [==============================] - 5s 307us/step - loss: 1.0707 - acc: 0.7904\n",
      "Epoch 4/10\n",
      "14991/14991 [==============================] - 4s 295us/step - loss: 0.7688 - acc: 0.8778\n",
      "Epoch 5/10\n",
      "14991/14991 [==============================] - 4s 290us/step - loss: 0.7297 - acc: 0.8385\n",
      "Epoch 6/10\n",
      "14991/14991 [==============================] - 5s 322us/step - loss: 0.6969 - acc: 0.8259\n",
      "Epoch 7/10\n",
      "14991/14991 [==============================] - 5s 358us/step - loss: 0.6291 - acc: 0.8588\n",
      "Epoch 8/10\n",
      "14991/14991 [==============================] - 5s 326us/step - loss: 0.5691 - acc: 0.9093\n",
      "Epoch 9/10\n",
      "14991/14991 [==============================] - 5s 326us/step - loss: 0.5201 - acc: 0.9284\n",
      "Epoch 10/10\n",
      "14991/14991 [==============================] - 5s 329us/step - loss: 0.4825 - acc: 0.9315\n",
      "The R2 score on the Train set is:\t-5.118\n",
      "The R2 score on the Test set is:\t-18.026\n",
      "4997/4997 [==============================] - 10s 2ms/step\n",
      "LSTM Loss: 2.323118\n",
      "LSTM Accuracy: 0.949170\n",
      "TRAIN: [    0     1     2 ... 14988 14989 14990] TEST: [14991 14992 14993 ... 19985 19986 19987]\n"
     ]
    },
    {
     "name": "stderr",
     "output_type": "stream",
     "text": [
      "C:\\Users\\summo\\AppData\\Local\\Continuum\\anaconda3\\envs\\tf\\lib\\site-packages\\ipykernel_launcher.py:18: FutureWarning: Method .as_matrix will be removed in a future version. Use .values instead.\n",
      "C:\\Users\\summo\\AppData\\Local\\Continuum\\anaconda3\\envs\\tf\\lib\\site-packages\\ipykernel_launcher.py:19: FutureWarning: Method .as_matrix will be removed in a future version. Use .values instead.\n",
      "C:\\Users\\summo\\AppData\\Local\\Continuum\\anaconda3\\envs\\tf\\lib\\site-packages\\ipykernel_launcher.py:21: FutureWarning: Method .as_matrix will be removed in a future version. Use .values instead.\n",
      "C:\\Users\\summo\\AppData\\Local\\Continuum\\anaconda3\\envs\\tf\\lib\\site-packages\\ipykernel_launcher.py:22: FutureWarning: Method .as_matrix will be removed in a future version. Use .values instead.\n"
     ]
    },
    {
     "name": "stdout",
     "output_type": "stream",
     "text": [
      "Epoch 1/10\n",
      "14991/14991 [==============================] - 8s 562us/step - loss: 1755.8966 - acc: 0.4960\n",
      "Epoch 2/10\n",
      "14991/14991 [==============================] - 5s 326us/step - loss: 0.5354 - acc: 0.8272\n",
      "Epoch 3/10\n",
      "14991/14991 [==============================] - 5s 366us/step - loss: 0.3039 - acc: 0.8749\n",
      "Epoch 4/10\n",
      "14991/14991 [==============================] - 9s 616us/step - loss: 0.1687 - acc: 0.9503\n",
      "Epoch 5/10\n",
      "14991/14991 [==============================] - 7s 447us/step - loss: 0.1569 - acc: 0.9528\n",
      "Epoch 6/10\n",
      "14991/14991 [==============================] - 6s 369us/step - loss: 0.1295 - acc: 0.9627\n",
      "Epoch 7/10\n",
      "14991/14991 [==============================] - 6s 421us/step - loss: 0.1171 - acc: 0.9773\n",
      "Epoch 8/10\n",
      "14991/14991 [==============================] - 5s 322us/step - loss: 0.1102 - acc: 0.9740\n",
      "Epoch 9/10\n",
      "14991/14991 [==============================] - 5s 332us/step - loss: 0.1125 - acc: 0.9604\n",
      "Epoch 10/10\n",
      "14991/14991 [==============================] - 5s 323us/step - loss: 0.1397 - acc: 0.9123\n",
      "The R2 score on the Train set is:\t-1.333\n",
      "The R2 score on the Test set is:\t-1.994\n",
      "4997/4997 [==============================] - 10s 2ms/step\n",
      "LSTM Loss: 0.394463\n",
      "LSTM Accuracy: 0.937963\n"
     ]
    }
   ],
   "source": [
    "import numpy as np\n",
    "from sklearn.model_selection import KFold\n",
    "X1 = np.array(X)\n",
    "y1 = np.array(y)\n",
    "kf = KFold(n_splits=4)\n",
    "kf.get_n_splits(X1)\n",
    "\n",
    "print(kf)  \n",
    "LSTM_Accuracies=[]\n",
    "LSTM_Loss=[]\n",
    "for train_index, test_index in kf.split(X1):\n",
    "    print(\"TRAIN:\", train_index, \"TEST:\", test_index)\n",
    "    X1_train, X1_test = X1[train_index], X1[test_index]\n",
    "#     X_train = X_train.as_matrix()\n",
    "#     X_test = X_test.as_matrix()\n",
    "    y1_train, y1_test = y1[train_index], y1[test_index]\n",
    "    \n",
    "    X1_train = pd.DataFrame(X1_train).as_matrix()\n",
    "    X1_test = pd.DataFrame(X1_test).as_matrix()\n",
    "\n",
    "    y1_train = pd.DataFrame(y1_train).as_matrix()\n",
    "    y1_test = pd.DataFrame(y1_test).as_matrix()\n",
    "    \n",
    "    X1_train_lmse = X1_train.reshape(X1_train.shape[0], X1_train.shape[1], 1)\n",
    "    X1_test_lmse = X1_test.reshape(X1_test.shape[0], X1_test.shape[1], 1)\n",
    "    \n",
    "    \n",
    "    lstm_model = Sequential()\n",
    "    lstm_model.add(LSTM(20, input_shape=(6, X1_train_lmse.shape[2]), activation='relu',\n",
    "                        kernel_initializer='lecun_uniform', return_sequences=False))\n",
    "    lstm_model.add(Dense(5))\n",
    "    lstm_model.add(Dense(1))\n",
    "    lstm_model.compile(loss='mean_squared_error', optimizer='adam',metrics=['accuracy'])\n",
    "    #early_stop = EarlyStopping(monitor='loss', patience=2, verbose=1)\n",
    "    history_lstm_model = lstm_model.fit(X1_train_lmse, y1_train, epochs=10, batch_size=32, verbose=1, shuffle=False) \n",
    "                                        #callbacks=[early_stop])\n",
    "    y_pred_test_lstm = lstm_model.predict(X1_test_lmse)\n",
    "    y_train_pred_lstm = lstm_model.predict(X1_train_lmse)\n",
    "    print(\"The R2 score on the Train set is:\\t{:0.3f}\".format(r2_score(y1_train, y_train_pred_lstm)))\n",
    "    print(\"The R2 score on the Test set is:\\t{:0.3f}\".format(r2_score(y1_test, y_pred_test_lstm)))\n",
    "    \n",
    "    lstm_test_mse = lstm_model.evaluate(X1_test_lmse, y1_test, batch_size=1)\n",
    "    print('LSTM Loss: %f'%lstm_test_mse[0])\n",
    "    print('LSTM Accuracy: %f'%lstm_test_mse[1])\n",
    "   \n",
    "    LSTM_Loss.append(lstm_test_mse[0])\n",
    "    LSTM_Accuracies.append(lstm_test_mse[1])"
   ]
  },
  {
   "cell_type": "code",
   "execution_count": 62,
   "metadata": {},
   "outputs": [
    {
     "name": "stdout",
     "output_type": "stream",
     "text": [
      "[0.9063438062837703, 0.9993996397838704, 0.9491695017010207, 0.9379627776666]\n",
      "[0.1878250213574526, 0.0013691800457408922, 2.323117694426467, 0.3944626586985024]\n"
     ]
    }
   ],
   "source": [
    "print(LSTM_Accuracies)\n",
    "print(LSTM_Loss)"
   ]
  },
  {
   "cell_type": "markdown",
   "metadata": {},
   "source": [
    "# Model Visualization graphs"
   ]
  },
  {
   "cell_type": "code",
   "execution_count": 63,
   "metadata": {},
   "outputs": [],
   "source": [
    "#accuracy = {LSTM_Accuracies}\n",
    "#loss = {LSTM_Loss : }\n",
    "\n",
    "A=np.array(LSTM_Accuracies)\n",
    "L=np.array(LSTM_Loss)\n",
    "N=['Fold1','Fold2','Fold3','Fold4']"
   ]
  },
  {
   "cell_type": "code",
   "execution_count": 64,
   "metadata": {
    "scrolled": true
   },
   "outputs": [
    {
     "data": {
      "text/plain": [
       "<BarContainer object of 4 artists>"
      ]
     },
     "execution_count": 64,
     "metadata": {},
     "output_type": "execute_result"
    },
    {
     "data": {
      "image/png": "[encoded data removed]",
      "text/plain": [
       "<Figure size 432x288 with 1 Axes>"
      ]
     },
     "metadata": {
      "needs_background": "light"
     },
     "output_type": "display_data"
    }
   ],
   "source": [
    "plt.bar(N, A ,  color = 'g', width = 0.20, label='Accuracy of Test')"
   ]
  },
  {
   "cell_type": "code",
   "execution_count": 65,
   "metadata": {},
   "outputs": [
    {
     "data": {
      "text/plain": [
       "<BarContainer object of 4 artists>"
      ]
     },
     "execution_count": 65,
     "metadata": {},
     "output_type": "execute_result"
    },
    {
     "data": {
      "image/png": "[encoded data removed]",
      "text/plain": [
       "<Figure size 432x288 with 1 Axes>"
      ]
     },
     "metadata": {
      "needs_background": "light"
     },
     "output_type": "display_data"
    }
   ],
   "source": [
    "plt.bar(N, L, color = 'r', width = 0.20, label='RMSE')"
   ]
  },
  {
   "cell_type": "code",
   "execution_count": 66,
   "metadata": {},
   "outputs": [
    {
     "name": "stderr",
     "output_type": "stream",
     "text": [
      "W1213 22:05:46.077254 11300 legend.py:1282] No handles with labels found to put in legend.\n"
     ]
    },
    {
     "data": {
      "text/plain": [
       "<matplotlib.legend.Legend at 0x2038fb80c48>"
      ]
     },
     "execution_count": 66,
     "metadata": {},
     "output_type": "execute_result"
    },
    {
     "data": {
      "image/png": "[encoded data removed]",
      "text/plain": [
       "<Figure size 432x288 with 1 Axes>"
      ]
     },
     "metadata": {
      "needs_background": "light"
     },
     "output_type": "display_data"
    }
   ],
   "source": [
    "plt.bar(N,A, align='center', alpha=0.5)  #blue\n",
    "plt.bar(N,L, align='center', alpha=0.5)   #orange\n",
    "plt.legend()                   "
   ]
  },
  {
   "cell_type": "code",
   "execution_count": 67,
   "metadata": {},
   "outputs": [
    {
     "data": {
      "text/plain": [
       "<BarContainer object of 4 artists>"
      ]
     },
     "execution_count": 67,
     "metadata": {},
     "output_type": "execute_result"
    },
    {
     "data": {
      "image/png": "[encoded data removed]",
      "text/plain": [
       "<Figure size 432x288 with 1 Axes>"
      ]
     },
     "metadata": {
      "needs_background": "light"
     },
     "output_type": "display_data"
    }
   ],
   "source": [
    "plt.bar(N,A, align='center', alpha=0.5)  # Accuracies"
   ]
  },
  {
   "cell_type": "code",
   "execution_count": 68,
   "metadata": {},
   "outputs": [
    {
     "data": {
      "text/plain": [
       "<BarContainer object of 4 artists>"
      ]
     },
     "execution_count": 68,
     "metadata": {},
     "output_type": "execute_result"
    },
    {
     "data": {
      "image/png": "[encoded data removed]",
      "text/plain": [
       "<Figure size 432x288 with 1 Axes>"
      ]
     },
     "metadata": {
      "needs_background": "light"
     },
     "output_type": "display_data"
    }
   ],
   "source": [
    "plt.bar(N,L, align='center', alpha=0.5)   # Losses"
   ]
  },
  {
   "cell_type": "code",
   "execution_count": null,
   "metadata": {},
   "outputs": [],
   "source": []
  },
  {
   "cell_type": "code",
   "execution_count": null,
   "metadata": {},
   "outputs": [],
   "source": []
  }
 ],
 "metadata": {
  "kernelspec": {
   "display_name": "Python 3",
   "language": "python",
   "name": "python3"
  },
  "language_info": {
   "codemirror_mode": {
    "name": "ipython",
    "version": 3
   },
   "file_extension": ".py",
   "mimetype": "text/x-python",
   "name": "python",
   "nbconvert_exporter": "python",
   "pygments_lexer": "ipython3",
   "version": "3.7.4"
  }
 },
 "nbformat": 4,
 "nbformat_minor": 2
}
